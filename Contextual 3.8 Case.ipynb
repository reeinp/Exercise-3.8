{
 "cells": [
  {
   "cell_type": "code",
   "execution_count": 1,
   "metadata": {},
   "outputs": [],
   "source": [
    "import pandas as pd\n",
    "import numpy as np\n",
    "#Kebutuhan analisis regresi berganda\n",
    "import statsmodels.api as sm\n",
    "from sklearn.model_selection import train_test_split\n",
    "from sklearn.linear_model import LinearRegression"
   ]
  },
  {
   "cell_type": "code",
   "execution_count": 2,
   "metadata": {},
   "outputs": [],
   "source": [
    "# Kebutuhan Uji Anova\n",
    "import statsmodels.api as sm\n",
    "from statsmodels.formula.api import ols\n"
   ]
  },
  {
   "cell_type": "code",
   "execution_count": 3,
   "metadata": {},
   "outputs": [
    {
     "name": "stdout",
     "output_type": "stream",
     "text": [
      "   Hours Studied  Previous Scores Extracurricular Activities  Sleep Hours  \\\n",
      "0              7               99                        Yes            9   \n",
      "1              4               82                         No            4   \n",
      "2              8               51                        Yes            7   \n",
      "3              5               52                        Yes            5   \n",
      "4              7               75                         No            8   \n",
      "\n",
      "   Sample Question Papers Practiced  Performance Index  \n",
      "0                                 1               91.0  \n",
      "1                                 2               65.0  \n",
      "2                                 2               45.0  \n",
      "3                                 2               36.0  \n",
      "4                                 5               66.0  \n"
     ]
    }
   ],
   "source": [
    "import pandas as pd\n",
    "\n",
    "# Simulasi pemanggilan data dari lokasi yang disimpan\n",
    "file_path = r\"D:\\Semester 4\\Metode Peramalan\\Latex\\Dataset Contextual\\Student_Performance.csv\"\n",
    "\n",
    "# Memuat data menggunakan pandas\n",
    "data = pd.read_csv(file_path)\n",
    "\n",
    "# Menampilkan data (opsional)\n",
    "print(data.head())  # Menampilkan lima baris pertama data\n"
   ]
  },
  {
   "cell_type": "code",
   "execution_count": 4,
   "metadata": {},
   "outputs": [
    {
     "name": "stdout",
     "output_type": "stream",
     "text": [
      "   Hours Studied  Previous Scores  Extracurricular Activities  Sleep Hours  \\\n",
      "0              7               99                           1            9   \n",
      "1              4               82                           0            4   \n",
      "2              8               51                           1            7   \n",
      "3              5               52                           1            5   \n",
      "4              7               75                           0            8   \n",
      "\n",
      "   Sample Question Papers Practiced  Performance Index  \n",
      "0                                 1               91.0  \n",
      "1                                 2               65.0  \n",
      "2                                 2               45.0  \n",
      "3                                 2               36.0  \n",
      "4                                 5               66.0  \n"
     ]
    }
   ],
   "source": [
    "# Mengganti nilai \"Yes\" dan \"No\" dengan 1 dan 0 di kolom \"Extracurricular Activities\"\n",
    "data['Extracurricular Activities'] = data['Extracurricular Activities'].replace({'Yes': 1, 'No': 0})\n",
    "\n",
    "# Menampilkan data (opsional)\n",
    "print(data.head())  # Menampilkan lima baris pertama data setelah perubahan"
   ]
  },
  {
   "cell_type": "code",
   "execution_count": 5,
   "metadata": {},
   "outputs": [
    {
     "name": "stdout",
     "output_type": "stream",
     "text": [
      "   Hours Studied  Previous Scores  Sleep Hours  \\\n",
      "0              7               99            9   \n",
      "1              4               82            4   \n",
      "2              8               51            7   \n",
      "3              5               52            5   \n",
      "4              7               75            8   \n",
      "\n",
      "   Sample Question Papers Practiced  Performance Index  Extra_0  Extra_1  \n",
      "0                                 1               91.0    False     True  \n",
      "1                                 2               65.0     True    False  \n",
      "2                                 2               45.0    False     True  \n",
      "3                                 2               36.0    False     True  \n",
      "4                                 5               66.0     True    False  \n"
     ]
    }
   ],
   "source": [
    "# Membuat dummy variables untuk variabel 'Region'\n",
    "region_dummies = pd.get_dummies(data['Extracurricular Activities'], prefix='Extra')\n",
    "\n",
    "# Menyambungkan dummy variables ke dalam dataframe utama\n",
    "data = pd.concat([data, region_dummies], axis=1)\n",
    "\n",
    "# Menghapus kolom 'Region' asli karena sudah tidak diperlukan lagi setelah pembuatan dummy variables\n",
    "data.drop('Extracurricular Activities', axis=1, inplace=True)\n",
    "\n",
    "print(data.head())  # Menampilkan lima baris pertama dari dataframe yang telah dimodifikasi\n"
   ]
  },
  {
   "cell_type": "code",
   "execution_count": 6,
   "metadata": {},
   "outputs": [
    {
     "name": "stdout",
     "output_type": "stream",
     "text": [
      "Hours Studied                         int64\n",
      "Previous Scores                       int64\n",
      "Sleep Hours                           int64\n",
      "Sample Question Papers Practiced      int64\n",
      "Performance Index                   float64\n",
      "Extra_0                                bool\n",
      "Extra_1                                bool\n",
      "dtype: object\n"
     ]
    }
   ],
   "source": [
    "print(data.dtypes)\n"
   ]
  },
  {
   "cell_type": "code",
   "execution_count": 7,
   "metadata": {},
   "outputs": [
    {
     "name": "stdout",
     "output_type": "stream",
     "text": [
      "Hours Studied                         int64\n",
      "Previous Scores                       int64\n",
      "Sleep Hours                           int64\n",
      "Sample Question Papers Practiced      int64\n",
      "Performance Index                   float64\n",
      "Extra_0                               int32\n",
      "Extra_1                               int32\n",
      "dtype: object\n"
     ]
    }
   ],
   "source": [
    "# Mengubah tipe data boolean menjadi integer\n",
    "data['Extra_0'] = data['Extra_0'].astype(int)\n",
    "data['Extra_1'] = data['Extra_1'].astype(int)\n",
    "\n",
    "# Menampilkan kembali tipe data setelah perubahan\n",
    "print(data.dtypes)\n"
   ]
  },
  {
   "cell_type": "code",
   "execution_count": 8,
   "metadata": {},
   "outputs": [
    {
     "name": "stdout",
     "output_type": "stream",
     "text": [
      "                            OLS Regression Results                            \n",
      "==============================================================================\n",
      "Dep. Variable:      Performance Index   R-squared:                       0.989\n",
      "Model:                            OLS   Adj. R-squared:                  0.989\n",
      "Method:                 Least Squares   F-statistic:                 1.757e+05\n",
      "Date:                Fri, 15 Mar 2024   Prob (F-statistic):               0.00\n",
      "Time:                        16:36:27   Log-Likelihood:                -21307.\n",
      "No. Observations:               10000   AIC:                         4.263e+04\n",
      "Df Residuals:                    9994   BIC:                         4.267e+04\n",
      "Df Model:                           5                                         \n",
      "Covariance Type:            nonrobust                                         \n",
      "====================================================================================================\n",
      "                                       coef    std err          t      P>|t|      [0.025      0.975]\n",
      "----------------------------------------------------------------------------------------------------\n",
      "const                              -34.0756      0.127   -268.010      0.000     -34.325     -33.826\n",
      "Hours Studied                        2.8530      0.008    362.353      0.000       2.838       2.868\n",
      "Previous Scores                      1.0184      0.001    866.450      0.000       1.016       1.021\n",
      "Sleep Hours                          0.4806      0.012     39.972      0.000       0.457       0.504\n",
      "Sample Question Papers Practiced     0.1938      0.007     27.257      0.000       0.180       0.208\n",
      "Extra_1                              0.6129      0.041     15.029      0.000       0.533       0.693\n",
      "==============================================================================\n",
      "Omnibus:                        3.851   Durbin-Watson:                   2.001\n",
      "Prob(Omnibus):                  0.146   Jarque-Bera (JB):                4.036\n",
      "Skew:                           0.013   Prob(JB):                        0.133\n",
      "Kurtosis:                       3.095   Cond. No.                         452.\n",
      "==============================================================================\n",
      "\n",
      "Notes:\n",
      "[1] Standard Errors assume that the covariance matrix of the errors is correctly specified.\n"
     ]
    }
   ],
   "source": [
    "# Menentukan variabel independen (X) dan variabel dependen (Y)\n",
    "X = data[['Hours Studied', 'Previous Scores', 'Sleep Hours', 'Sample Question Papers Practiced', 'Extra_1']]\n",
    "Y = data['Performance Index']\n",
    "\n",
    "# Menambahkan konstanta ke variabel independen\n",
    "X = sm.add_constant(X)\n",
    "\n",
    "# Membuat model OLS\n",
    "model = sm.OLS(Y, X)\n",
    "\n",
    "# Melakukan fitting model ke data\n",
    "results = model.fit()\n",
    "\n",
    "# Menampilkan hasil summary dari model\n",
    "print(results.summary())\n"
   ]
  },
  {
   "cell_type": "code",
   "execution_count": 9,
   "metadata": {},
   "outputs": [
    {
     "name": "stdout",
     "output_type": "stream",
     "text": [
      "                           Variable        VIF\n",
      "0                             const  38.916475\n",
      "1                     Hours Studied   1.000478\n",
      "2                   Previous Scores   1.000326\n",
      "3                       Sleep Hours   1.000600\n",
      "4  Sample Question Papers Practiced   1.000557\n",
      "5                           Extra_1   1.000802\n"
     ]
    }
   ],
   "source": [
    "from statsmodels.stats.outliers_influence import variance_inflation_factor\n",
    "\n",
    "# Hitung VIF untuk setiap variabel independen\n",
    "vif_data = X.assign(const=1)\n",
    "vif = pd.DataFrame()\n",
    "vif[\"Variable\"] = vif_data.columns\n",
    "vif[\"VIF\"] = [variance_inflation_factor(vif_data.values, i) for i in range(vif_data.shape[1])]\n",
    "\n",
    "print(vif)"
   ]
  }
 ],
 "metadata": {
  "kernelspec": {
   "display_name": "Python 3",
   "language": "python",
   "name": "python3"
  },
  "language_info": {
   "codemirror_mode": {
    "name": "ipython",
    "version": 3
   },
   "file_extension": ".py",
   "mimetype": "text/x-python",
   "name": "python",
   "nbconvert_exporter": "python",
   "pygments_lexer": "ipython3",
   "version": "3.9.13"
  }
 },
 "nbformat": 4,
 "nbformat_minor": 2
}
